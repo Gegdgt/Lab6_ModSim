{
 "cells": [
  {
   "cell_type": "code",
   "execution_count": 1,
   "metadata": {},
   "outputs": [],
   "source": [
    "# Arturo Argueta\n",
    "# Luis Montenegro\n",
    "# Gabriel Garcia"
   ]
  },
  {
   "cell_type": "markdown",
   "metadata": {},
   "source": [
    "# Simulacion de los ordenadoores y servicos"
   ]
  },
  {
   "cell_type": "code",
   "execution_count": 2,
   "metadata": {},
   "outputs": [],
   "source": [
    "import numpy as np"
   ]
  },
  {
   "cell_type": "code",
   "execution_count": 3,
   "metadata": {},
   "outputs": [],
   "source": [
    "# Parámetros\n",
    "lambda_llegadas = 40  # Tasa de llegadas (solicitudes/segundo)\n",
    "mu_mountain = 100     # Tasa de servicio de Mountain Mega Computing (solicitudes/segundo)\n",
    "mu_pizzita = 10       # Tasa de servicio de Pizzita por servidor (solicitudes/segundo)\n",
    "tiempo_simulacion = 3600  # Tiempo total de simulación (1 hora = 3600 segundos)\n"
   ]
  },
  {
   "cell_type": "code",
   "execution_count": 4,
   "metadata": {},
   "outputs": [],
   "source": [
    "# Función para generar los tiempos de llegada (Poisson) y tiempos de servicio (Exponencial)\n",
    "def generar_tiempos_llegada(lambda_llegadas, tiempo_simulacion):\n",
    "    tiempos_llegada = []\n",
    "    tiempo_actual = 0\n",
    "    while tiempo_actual < tiempo_simulacion:\n",
    "        tiempo_llegada = np.random.exponential(1 / lambda_llegadas)\n",
    "        tiempo_actual += tiempo_llegada\n",
    "        if tiempo_actual < tiempo_simulacion:\n",
    "            tiempos_llegada.append(tiempo_actual)\n",
    "    return tiempos_llegada\n",
    "\n",
    "def generar_tiempos_servicio(mu, num_solicitudes):\n",
    "    return np.random.exponential(1 / mu, num_solicitudes)\n",
    "\n"
   ]
  },
  {
   "cell_type": "code",
   "execution_count": 5,
   "metadata": {},
   "outputs": [],
   "source": [
    "def simular_mountain(tiempos_llegada, mu_mountain):\n",
    "    tiempos_servicio = generar_tiempos_servicio(mu_mountain, len(tiempos_llegada))\n",
    "    tiempo_servidor_ocupado = 0\n",
    "    tiempo_cola = 0\n",
    "    salida_solicitudes = []\n",
    "    cola = []\n",
    "    tiempo_servidor_ocupado_total = 0\n",
    "    servidor_libre_en = 0\n",
    "\n",
    "    for i, llegada in enumerate(tiempos_llegada):\n",
    "        if llegada >= servidor_libre_en:  # Si el servidor está libre cuando llega la solicitud\n",
    "            tiempo_servicio = tiempos_servicio[i]\n",
    "            salida = llegada + tiempo_servicio\n",
    "            salida_solicitudes.append(salida)\n",
    "            servidor_libre_en = salida\n",
    "            tiempo_servidor_ocupado_total += tiempo_servicio\n",
    "        else:\n",
    "            cola.append(llegada)\n",
    "            tiempo_cola += servidor_libre_en - llegada\n",
    "            tiempo_servicio = tiempos_servicio[i]\n",
    "            salida = servidor_libre_en + tiempo_servicio\n",
    "            salida_solicitudes.append(salida)\n",
    "            servidor_libre_en = salida\n",
    "            tiempo_servidor_ocupado_total += tiempo_servicio\n",
    "\n",
    "    tiempo_desocupado = tiempo_simulacion - tiempo_servidor_ocupado_total\n",
    "    return len(salida_solicitudes), tiempo_servidor_ocupado_total, tiempo_desocupado, tiempo_cola, salida_solicitudes\n",
    "\n",
    "# Simulación de Pizzita Computing (Múltiples servidores)\n",
    "def simular_pizzita(tiempos_llegada, mu_pizzita):\n",
    "    tiempos_servicio = generar_tiempos_servicio(mu_pizzita, len(tiempos_llegada))\n",
    "    servidores = []\n",
    "    tiempo_servidor_ocupado_total = 0\n",
    "    tiempo_cola_total = 0\n",
    "    solicitudes_atendidas = 0\n",
    "    salida_solicitudes = []\n",
    "    \n",
    "    for i, llegada in enumerate(tiempos_llegada):\n",
    "        # Revisar si hay un servidor disponible o en uso\n",
    "        servidores_disponibles = [servidor for servidor in servidores if servidor['libre_en'] <= llegada]\n",
    "        if servidores_disponibles:\n",
    "            servidor = servidores_disponibles[0]\n",
    "        else:\n",
    "            # Crear un nuevo servidor si no hay disponibles\n",
    "            servidor = {'libre_en': llegada}\n",
    "            servidores.append(servidor)\n",
    "\n",
    "        # Calcular tiempo de servicio y asignarlo al servidor\n",
    "        tiempo_servicio = tiempos_servicio[i]\n",
    "        servidor['libre_en'] = max(servidor['libre_en'], llegada) + tiempo_servicio\n",
    "        salida_solicitudes.append(servidor['libre_en'])\n",
    "        solicitudes_atendidas += 1\n",
    "        tiempo_servidor_ocupado_total += tiempo_servicio\n",
    "\n",
    "        # Si hubo tiempo en cola\n",
    "        if llegada < servidor['libre_en'] - tiempo_servicio:\n",
    "            tiempo_cola_total += servidor['libre_en'] - tiempo_servicio - llegada\n",
    "\n",
    "    tiempo_desocupado_total = tiempo_simulacion - tiempo_servidor_ocupado_total\n",
    "    return solicitudes_atendidas, tiempo_servidor_ocupado_total, tiempo_desocupado_total, tiempo_cola_total, salida_solicitudes, len(servidores)"
   ]
  },
  {
   "cell_type": "code",
   "execution_count": 7,
   "metadata": {},
   "outputs": [
    {
     "ename": "AttributeError",
     "evalue": "'numpy.ndarray' object has no attribute 'pop'",
     "output_type": "error",
     "traceback": [
      "\u001b[1;31m---------------------------------------------------------------------------\u001b[0m",
      "\u001b[1;31mAttributeError\u001b[0m                            Traceback (most recent call last)",
      "Cell \u001b[1;32mIn[7], line 3\u001b[0m\n\u001b[0;32m      1\u001b[0m \u001b[38;5;66;03m# Ejecutar la simulación para Mountain Mega Computing\u001b[39;00m\n\u001b[0;32m      2\u001b[0m tiempos_llegada \u001b[38;5;241m=\u001b[39m generar_tiempos_llegada(lambda_llegadas, tiempo_simulacion)\n\u001b[1;32m----> 3\u001b[0m solicitudes_mountain, tiempo_ocupado_mountain, tiempo_desocupado_mountain, tiempo_cola_mountain, salidas_mountain \u001b[38;5;241m=\u001b[39m \u001b[43msimular_mountain\u001b[49m\u001b[43m(\u001b[49m\u001b[43mtiempos_llegada\u001b[49m\u001b[43m,\u001b[49m\u001b[43m \u001b[49m\u001b[43mmu_mountain\u001b[49m\u001b[43m)\u001b[49m\n\u001b[0;32m      5\u001b[0m \u001b[38;5;66;03m# Ejecutar la simulación para Pizzita Computing\u001b[39;00m\n\u001b[0;32m      6\u001b[0m solicitudes_pizzita, tiempo_ocupado_pizzita, tiempo_desocupado_pizzita, tiempo_cola_pizzita, salidas_pizzita, num_servidores \u001b[38;5;241m=\u001b[39m simular_pizzita(tiempos_llegada, mu_pizzita)\n",
      "Cell \u001b[1;32mIn[5], line 13\u001b[0m, in \u001b[0;36msimular_mountain\u001b[1;34m(tiempos_llegada, mu_mountain)\u001b[0m\n\u001b[0;32m     11\u001b[0m \u001b[38;5;28;01mfor\u001b[39;00m llegada \u001b[38;5;129;01min\u001b[39;00m tiempos_llegada:\n\u001b[0;32m     12\u001b[0m     \u001b[38;5;28;01mif\u001b[39;00m llegada \u001b[38;5;241m>\u001b[39m\u001b[38;5;241m=\u001b[39m servidor_libre_en:  \u001b[38;5;66;03m# Si el servidor está libre cuando llega la solicitud\u001b[39;00m\n\u001b[1;32m---> 13\u001b[0m         tiempo_servicio \u001b[38;5;241m=\u001b[39m \u001b[43mtiempos_servicio\u001b[49m\u001b[38;5;241;43m.\u001b[39;49m\u001b[43mpop\u001b[49m(\u001b[38;5;241m0\u001b[39m)\n\u001b[0;32m     14\u001b[0m         salida \u001b[38;5;241m=\u001b[39m llegada \u001b[38;5;241m+\u001b[39m tiempo_servicio\n\u001b[0;32m     15\u001b[0m         salida_solicitudes\u001b[38;5;241m.\u001b[39mappend(salida)\n",
      "\u001b[1;31mAttributeError\u001b[0m: 'numpy.ndarray' object has no attribute 'pop'"
     ]
    }
   ],
   "source": [
    "# Ejecutar la simulación para Mountain Mega Computing\n",
    "tiempos_llegada = generar_tiempos_llegada(lambda_llegadas, tiempo_simulacion)\n",
    "solicitudes_mountain, tiempo_ocupado_mountain, tiempo_desocupado_mountain, tiempo_cola_mountain, salidas_mountain = simular_mountain(tiempos_llegada, mu_mountain)\n",
    "\n",
    "# Ejecutar la simulación para Pizzita Computing\n",
    "solicitudes_pizzita, tiempo_ocupado_pizzita, tiempo_desocupado_pizzita, tiempo_cola_pizzita, salidas_pizzita, num_servidores = simular_pizzita(tiempos_llegada, mu_pizzita)\n",
    "\n",
    "# Calcular métricas adicionales\n",
    "tiempo_promedio_cola_mountain = tiempo_cola_mountain / solicitudes_mountain\n",
    "tiempo_promedio_cola_pizzita = tiempo_cola_pizzita / solicitudes_pizzita\n",
    "solicitudes_promedio_cola_mountain = tiempo_cola_mountain / tiempo_simulacion\n",
    "solicitudes_promedio_cola_pizzita = tiempo_cola_pizzita / tiempo_simulacion"
   ]
  },
  {
   "cell_type": "markdown",
   "metadata": {},
   "source": [
    "## Resultados de las simulaciones"
   ]
  },
  {
   "cell_type": "code",
   "execution_count": null,
   "metadata": {},
   "outputs": [],
   "source": [
    "\n",
    "\n",
    "# Mostrar resultados de la simulación para Mountain Mega Computing\n",
    "print(\"---- Mountain Mega Computing (Servidor Único) ----\")\n",
    "print(f\"Solicitudes atendidas: {solicitudes_mountain}\")\n",
    "print(f\"Tiempo ocupado del servidor: {tiempo_ocupado_mountain:.2f} segundos\")\n",
    "print(f\"Tiempo desocupado del servidor: {tiempo_desocupado_mountain:.2f} segundos\")\n",
    "print(f\"Tiempo total en cola: {tiempo_cola_mountain:.2f} segundos\")\n",
    "print(f\"Tiempo promedio en cola por solicitud: {tiempo_promedio_cola_mountain:.2f} segundos\")\n",
    "print(f\"Solicitudes promedio en cola: {solicitudes_promedio_cola_mountain:.2f}\")\n",
    "print(f\"Última solicitud salida en: {max(salidas_mountain):.2f} segundos\")\n",
    "\n",
    "# Mostrar resultados de la simulación para Pizzita Computing\n",
    "print(\"\\n---- Pizzita Computing (Múltiples Servidores) ----\")\n",
    "print(f\"Solicitudes atendidas: {solicitudes_pizzita}\")\n",
    "print(f\"Tiempo ocupado total de los servidores: {tiempo_ocupado_pizzita:.2f} segundos\")\n",
    "print(f\"Tiempo desocupado total de los servidores: {tiempo_desocupado_pizzita:.2f} segundos\")\n",
    "print(f\"Tiempo total en cola: {tiempo_cola_pizzita:.2f} segundos\")\n",
    "print(f\"Tiempo promedio en cola por solicitud: {tiempo_promedio_cola_pizzita:.2f} segundos\")\n",
    "print(f\"Solicitudes promedio en cola: {solicitudes_promedio_cola_pizzita:.2f}\")\n",
    "print(f\"Número de servidores utilizados: {num_servidores}\")\n",
    "print(f\"Última solicitud salida en: {max(salidas_pizzita):.2f} segundos\")"
   ]
  }
 ],
 "metadata": {
  "kernelspec": {
   "display_name": "Python 3",
   "language": "python",
   "name": "python3"
  },
  "language_info": {
   "codemirror_mode": {
    "name": "ipython",
    "version": 3
   },
   "file_extension": ".py",
   "mimetype": "text/x-python",
   "name": "python",
   "nbconvert_exporter": "python",
   "pygments_lexer": "ipython3",
   "version": "3.11.9"
  }
 },
 "nbformat": 4,
 "nbformat_minor": 2
}
