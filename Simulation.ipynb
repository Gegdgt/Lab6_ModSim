{
 "cells": [
  {
   "cell_type": "code",
   "execution_count": 1,
   "metadata": {},
   "outputs": [],
   "source": [
    "# Arturo Argueta\n",
    "# Luis Montenegro\n",
    "# Gabriel Garcia"
   ]
  },
  {
   "cell_type": "markdown",
   "metadata": {},
   "source": [
    "# Simulacion de los ordenadoores y servicos"
   ]
  },
  {
   "cell_type": "code",
   "execution_count": 2,
   "metadata": {},
   "outputs": [],
   "source": [
    "import numpy as np"
   ]
  },
  {
   "cell_type": "code",
   "execution_count": 3,
   "metadata": {},
   "outputs": [],
   "source": [
    "# Parámetros\n",
    "lambda_llegadas = 40  # Tasa de llegadas (solicitudes/segundo)\n",
    "mu_mountain = 100     # Tasa de servicio de Mountain Mega Computing (solicitudes/segundo)\n",
    "mu_pizzita = 10       # Tasa de servicio de Pizzita por servidor (solicitudes/segundo)\n",
    "tiempo_simulacion = 3600  # Tiempo total de simulación (1 hora = 3600 segundos)\n"
   ]
  },
  {
   "cell_type": "code",
   "execution_count": 4,
   "metadata": {},
   "outputs": [],
   "source": [
    "# Función para generar los tiempos de llegada (Poisson) y tiempos de servicio (Exponencial)\n",
    "def generar_tiempos_llegada(lambda_llegadas, tiempo_simulacion):\n",
    "    tiempos_llegada = []\n",
    "    tiempo_actual = 0\n",
    "    while tiempo_actual < tiempo_simulacion:\n",
    "        tiempo_llegada = np.random.exponential(1 / lambda_llegadas)\n",
    "        tiempo_actual += tiempo_llegada\n",
    "        if tiempo_actual < tiempo_simulacion:\n",
    "            tiempos_llegada.append(tiempo_actual)\n",
    "    return tiempos_llegada\n",
    "\n",
    "def generar_tiempos_servicio(mu, num_solicitudes):\n",
    "    return np.random.exponential(1 / mu, num_solicitudes)\n",
    "\n"
   ]
  },
  {
   "cell_type": "code",
   "execution_count": 8,
   "metadata": {},
   "outputs": [],
   "source": [
    "def simular_mountain(tiempos_llegada, mu_mountain):\n",
    "    tiempos_servicio = generar_tiempos_servicio(mu_mountain, len(tiempos_llegada))\n",
    "    tiempo_servidor_ocupado = 0\n",
    "    tiempo_cola = 0\n",
    "    salida_solicitudes = []\n",
    "    cola = []\n",
    "    tiempo_servidor_ocupado_total = 0\n",
    "    servidor_libre_en = 0\n",
    "\n",
    "    for i, llegada in enumerate(tiempos_llegada):\n",
    "        if llegada >= servidor_libre_en:  # Si el servidor está libre cuando llega la solicitud\n",
    "            tiempo_servicio = tiempos_servicio[i]\n",
    "            salida = llegada + tiempo_servicio\n",
    "            salida_solicitudes.append(salida)\n",
    "            servidor_libre_en = salida\n",
    "            tiempo_servidor_ocupado_total += tiempo_servicio\n",
    "        else:\n",
    "            cola.append(llegada)\n",
    "            tiempo_cola += servidor_libre_en - llegada\n",
    "            tiempo_servicio = tiempos_servicio[i]\n",
    "            salida = servidor_libre_en + tiempo_servicio\n",
    "            salida_solicitudes.append(salida)\n",
    "            servidor_libre_en = salida\n",
    "            tiempo_servidor_ocupado_total += tiempo_servicio\n",
    "\n",
    "    tiempo_desocupado = tiempo_simulacion - tiempo_servidor_ocupado_total\n",
    "    return len(salida_solicitudes), tiempo_servidor_ocupado_total, tiempo_desocupado, tiempo_cola, salida_solicitudes\n",
    "\n",
    "# Simulación de Pizzita Computing (Múltiples servidores)\n",
    "def simular_pizzita(tiempos_llegada, mu_pizzita):\n",
    "    tiempos_servicio = generar_tiempos_servicio(mu_pizzita, len(tiempos_llegada))\n",
    "    servidores = []\n",
    "    tiempo_servidor_ocupado_total = 0\n",
    "    tiempo_cola_total = 0\n",
    "    solicitudes_atendidas = 0\n",
    "    salida_solicitudes = []\n",
    "    \n",
    "    for i, llegada in enumerate(tiempos_llegada):\n",
    "        # Revisar si hay un servidor disponible o en uso\n",
    "        servidores_disponibles = [servidor for servidor in servidores if servidor['libre_en'] <= llegada]\n",
    "        if servidores_disponibles:\n",
    "            servidor = servidores_disponibles[0]\n",
    "        else:\n",
    "            # Crear un nuevo servidor si no hay disponibles\n",
    "            servidor = {'libre_en': llegada}\n",
    "            servidores.append(servidor)\n",
    "\n",
    "        # Calcular tiempo de servicio y asignarlo al servidor\n",
    "        tiempo_servicio = tiempos_servicio[i]\n",
    "        servidor['libre_en'] = max(servidor['libre_en'], llegada) + tiempo_servicio\n",
    "        salida_solicitudes.append(servidor['libre_en'])\n",
    "        solicitudes_atendidas += 1\n",
    "        tiempo_servidor_ocupado_total += tiempo_servicio\n",
    "\n",
    "        # Si hubo tiempo en cola\n",
    "        if llegada < servidor['libre_en'] - tiempo_servicio:\n",
    "            tiempo_cola_total += servidor['libre_en'] - tiempo_servicio - llegada\n",
    "\n",
    "    tiempo_desocupado_total = tiempo_simulacion - tiempo_servidor_ocupado_total\n",
    "    return solicitudes_atendidas, tiempo_servidor_ocupado_total, tiempo_desocupado_total, tiempo_cola_total, salida_solicitudes, len(servidores)"
   ]
  },
  {
   "cell_type": "code",
   "execution_count": 9,
   "metadata": {},
   "outputs": [],
   "source": [
    "# Ejecutar la simulación para Mountain Mega Computing\n",
    "tiempos_llegada = generar_tiempos_llegada(lambda_llegadas, tiempo_simulacion)\n",
    "solicitudes_mountain, tiempo_ocupado_mountain, tiempo_desocupado_mountain, tiempo_cola_mountain, salidas_mountain = simular_mountain(tiempos_llegada, mu_mountain)\n",
    "\n",
    "# Ejecutar la simulación para Pizzita Computing\n",
    "solicitudes_pizzita, tiempo_ocupado_pizzita, tiempo_desocupado_pizzita, tiempo_cola_pizzita, salidas_pizzita, num_servidores = simular_pizzita(tiempos_llegada, mu_pizzita)\n",
    "\n",
    "# Calcular métricas adicionales\n",
    "tiempo_promedio_cola_mountain = tiempo_cola_mountain / solicitudes_mountain\n",
    "tiempo_promedio_cola_pizzita = tiempo_cola_pizzita / solicitudes_pizzita\n",
    "solicitudes_promedio_cola_mountain = tiempo_cola_mountain / tiempo_simulacion\n",
    "solicitudes_promedio_cola_pizzita = tiempo_cola_pizzita / tiempo_simulacion"
   ]
  },
  {
   "cell_type": "markdown",
   "metadata": {},
   "source": [
    "## Resultados de las simulaciones"
   ]
  },
  {
   "cell_type": "code",
   "execution_count": 10,
   "metadata": {},
   "outputs": [
    {
     "name": "stdout",
     "output_type": "stream",
     "text": [
      "---- Mountain Mega Computing (Servidor Único) ----\n",
      "Solicitudes atendidas: 144232\n",
      "Tiempo ocupado del servidor: 1448.93 segundos\n",
      "Tiempo desocupado del servidor: 2151.07 segundos\n",
      "Tiempo total en cola: 979.73 segundos\n",
      "Tiempo promedio en cola por solicitud: 0.01 segundos\n",
      "Solicitudes promedio en cola: 0.27\n",
      "Última solicitud salida en: 3600.00 segundos\n",
      "\n",
      "---- Pizzita Computing (Múltiples Servidores) ----\n",
      "Solicitudes atendidas: 144232\n",
      "Tiempo ocupado total de los servidores: 14443.58 segundos\n",
      "Tiempo desocupado total de los servidores: -10843.58 segundos\n",
      "Tiempo total en cola: 0.00 segundos\n",
      "Tiempo promedio en cola por solicitud: 0.00 segundos\n",
      "Solicitudes promedio en cola: 0.00\n",
      "Número de servidores utilizados: 16\n",
      "Última solicitud salida en: 3600.22 segundos\n"
     ]
    }
   ],
   "source": [
    "\n",
    "\n",
    "# Mostrar resultados de la simulación para Mountain Mega Computing\n",
    "print(\"---- Mountain Mega Computing (Servidor Único) ----\")\n",
    "print(f\"Solicitudes atendidas: {solicitudes_mountain}\")\n",
    "print(f\"Tiempo ocupado del servidor: {tiempo_ocupado_mountain:.2f} segundos\")\n",
    "print(f\"Tiempo desocupado del servidor: {tiempo_desocupado_mountain:.2f} segundos\")\n",
    "print(f\"Tiempo total en cola: {tiempo_cola_mountain:.2f} segundos\")\n",
    "print(f\"Tiempo promedio en cola por solicitud: {tiempo_promedio_cola_mountain:.2f} segundos\")\n",
    "print(f\"Solicitudes promedio en cola: {solicitudes_promedio_cola_mountain:.2f}\")\n",
    "print(f\"Última solicitud salida en: {max(salidas_mountain):.2f} segundos\")\n",
    "\n",
    "# Mostrar resultados de la simulación para Pizzita Computing\n",
    "print(\"\\n---- Pizzita Computing (Múltiples Servidores) ----\")\n",
    "print(f\"Solicitudes atendidas: {solicitudes_pizzita}\")\n",
    "print(f\"Tiempo ocupado total de los servidores: {tiempo_ocupado_pizzita:.2f} segundos\")\n",
    "print(f\"Tiempo desocupado total de los servidores: {tiempo_desocupado_pizzita:.2f} segundos\")\n",
    "print(f\"Tiempo total en cola: {tiempo_cola_pizzita:.2f} segundos\")\n",
    "print(f\"Tiempo promedio en cola por solicitud: {tiempo_promedio_cola_pizzita:.2f} segundos\")\n",
    "print(f\"Solicitudes promedio en cola: {solicitudes_promedio_cola_pizzita:.2f}\")\n",
    "print(f\"Número de servidores utilizados: {num_servidores}\")\n",
    "print(f\"Última solicitud salida en: {max(salidas_pizzita):.2f} segundos\")"
   ]
  },
  {
   "cell_type": "markdown",
   "metadata": {},
   "source": [
    "En base a la simulación podemos responder las siguientes preguntas\n",
    "\n",
    "a. ¿Cuántas solicitudes atendió cada servidor?\n",
    "En ambos casos se atendieron 144,232 solicidudes que se distribuyeron entre los dos servidores. Para Mountain Mega Computing, solo un servidor atendio todas las solicitudes, mientras que para Pizzita Computing 16 servidores atendieron todos los datos, siendo un aproximado de 9014 solicitudes por servidor.\n",
    "\n",
    "b. ¿Cuánto tiempo estuvo cada servidor ocupado?\n",
    "Para Mountain Mega Computing el servidor estuvo ocupado durante 1448.93 segundos, miesntras que para Pizzita computing, el tiempo total fue de 14443.58 segundos, distribuidos entre los 16 servidores. El tiempo promedio por servidor es de 902.72.\n",
    "\n",
    "c. ¿Cuánto tiempo estuvo cada servidor desocupado (iddle)?\n",
    "El tiempo desocupado de Mountain Mega Computing fue de 2151.07 segundos, mientras que apra Pizzita Computing, el tiempo desocupado total fue negativo (-10843.58 segundos) lo que indica que hubo multiples servidores que estuvieron sobrecargados, sin embargo en promedio seria -677.72 segundos por servidor.\n",
    "\n",
    "d. ¿Cuánto tiempo en total estuvieron las solicitudes en cola?\n",
    "El tiempo total de la cola para Mountain Mega Computing fue de 979.73 segundos esto debido a que solo hay un servidor, mientras que para Pizzita Computing no habia tiempo de espera es decir que el tiempo era de 0, ya que al tener tantos servidores funcionando, no hay una gran espera.\n",
    "\n",
    "e. En promedio ¿cuánto tiempo estuvo cada solicitud en cola?\n",
    "El tiempo de cola por solicitud en Mountain Mega Computing es de 0.1 segundos, mientras que para Pizzita Computing no hubo tiempo de espera en cola, es decir que el tiempo era 0.\n",
    "\n",
    "f. En promedio, ¿cuántas solicitudes estuvieron en cola cada segundo?\n",
    "El promedio del tiempo que estuvieron las solicitudes en la cola en Mountain Mega Computing es de 0.27, mientras que en Pizzita Computing tuvo un promedio de 0\n",
    "\n",
    "\n",
    "g. ¿Cuál es el momento de la salida de la última solicitud?\n",
    "La última solicitud en Mountain Mega Computing salió en 3,600.00 segundos. En Pizzita Computing, la última solicitud salió en 3,600.22 segundos, poco tiempo después que el tiempo simulado debido a la distribución de servidores.\n",
    "\n"
   ]
  }
 ],
 "metadata": {
  "kernelspec": {
   "display_name": "Python 3",
   "language": "python",
   "name": "python3"
  },
  "language_info": {
   "codemirror_mode": {
    "name": "ipython",
    "version": 3
   },
   "file_extension": ".py",
   "mimetype": "text/x-python",
   "name": "python",
   "nbconvert_exporter": "python",
   "pygments_lexer": "ipython3",
   "version": "3.11.9"
  }
 },
 "nbformat": 4,
 "nbformat_minor": 2
}
